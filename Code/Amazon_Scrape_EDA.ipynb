{
 "cells": [
  {
   "cell_type": "markdown",
   "metadata": {},
   "source": [
    "# Amazon Wireless Headphone Review \n",
    "### Scraped by Google Chrome Extension\n",
    "#### https://chrome.google.com/webstore/detail/web-scraper/jnhgnonknehpejjnehehllkliplmbmhn/related"
   ]
  },
  {
   "cell_type": "code",
   "execution_count": 1,
   "metadata": {},
   "outputs": [],
   "source": [
    "# https://www.scrapehero.com/amazon-review-scraper/\n",
    "import pandas as pd\n",
    "import numpy as np\n",
    "\n",
    "%matplotlib inline\n",
    "import warnings\n",
    "warnings.filterwarnings('ignore')\n",
    "\n",
    "pd.options.display.max_columns = 500"
   ]
  },
  {
   "cell_type": "markdown",
   "metadata": {},
   "source": [
    "### Apple Airpods Reviews"
   ]
  },
  {
   "cell_type": "code",
   "execution_count": 2,
   "metadata": {},
   "outputs": [
    {
     "data": {
      "text/html": [
       "<div>\n",
       "<style scoped>\n",
       "    .dataframe tbody tr th:only-of-type {\n",
       "        vertical-align: middle;\n",
       "    }\n",
       "\n",
       "    .dataframe tbody tr th {\n",
       "        vertical-align: top;\n",
       "    }\n",
       "\n",
       "    .dataframe thead th {\n",
       "        text-align: right;\n",
       "    }\n",
       "</style>\n",
       "<table border=\"1\" class=\"dataframe\">\n",
       "  <thead>\n",
       "    <tr style=\"text-align: right;\">\n",
       "      <th></th>\n",
       "      <th>web-scraper-order</th>\n",
       "      <th>web-scraper-start-url</th>\n",
       "      <th>ReviewTitle</th>\n",
       "      <th>ReviewBody</th>\n",
       "      <th>ReviewStar</th>\n",
       "      <th>next</th>\n",
       "      <th>next-href</th>\n",
       "    </tr>\n",
       "  </thead>\n",
       "  <tbody>\n",
       "    <tr>\n",
       "      <td>0</td>\n",
       "      <td>1573042898-1816</td>\n",
       "      <td>https://www.amazon.com/Apple-AirPods-Charging-...</td>\n",
       "      <td>Great wireless music</td>\n",
       "      <td>Product as expecred</td>\n",
       "      <td>5.0 out of 5 stars</td>\n",
       "      <td>Next page→</td>\n",
       "      <td>https://www.amazon.com/Apple-AirPods-Charging-...</td>\n",
       "    </tr>\n",
       "    <tr>\n",
       "      <td>1</td>\n",
       "      <td>1573042596-467</td>\n",
       "      <td>https://www.amazon.com/Apple-AirPods-Charging-...</td>\n",
       "      <td>battery life dies really quick</td>\n",
       "      <td>i really like my airpods but the battery life ...</td>\n",
       "      <td>4.0 out of 5 stars</td>\n",
       "      <td>Next page→</td>\n",
       "      <td>https://www.amazon.com/Apple-AirPods-Charging-...</td>\n",
       "    </tr>\n",
       "    <tr>\n",
       "      <td>2</td>\n",
       "      <td>1573042820-1471</td>\n",
       "      <td>https://www.amazon.com/Apple-AirPods-Charging-...</td>\n",
       "      <td>The audio sound muffled (right ear)</td>\n",
       "      <td>I bought Airpods 2 on Amazon. But right ears w...</td>\n",
       "      <td>3.0 out of 5 stars</td>\n",
       "      <td>Next page→</td>\n",
       "      <td>https://www.amazon.com/Apple-AirPods-Charging-...</td>\n",
       "    </tr>\n",
       "    <tr>\n",
       "      <td>3</td>\n",
       "      <td>1573042975-2170</td>\n",
       "      <td>https://www.amazon.com/Apple-AirPods-Charging-...</td>\n",
       "      <td>Comprarlo sin problemas</td>\n",
       "      <td>Perfect</td>\n",
       "      <td>5.0 out of 5 stars</td>\n",
       "      <td>Next page→</td>\n",
       "      <td>https://www.amazon.com/Apple-AirPods-Charging-...</td>\n",
       "    </tr>\n",
       "    <tr>\n",
       "      <td>4</td>\n",
       "      <td>1573043073-2606</td>\n",
       "      <td>https://www.amazon.com/Apple-AirPods-Charging-...</td>\n",
       "      <td>good！</td>\n",
       "      <td>so</td>\n",
       "      <td>5.0 out of 5 stars</td>\n",
       "      <td>Next page→</td>\n",
       "      <td>https://www.amazon.com/Apple-AirPods-Charging-...</td>\n",
       "    </tr>\n",
       "  </tbody>\n",
       "</table>\n",
       "</div>"
      ],
      "text/plain": [
       "  web-scraper-order                              web-scraper-start-url  \\\n",
       "0   1573042898-1816  https://www.amazon.com/Apple-AirPods-Charging-...   \n",
       "1    1573042596-467  https://www.amazon.com/Apple-AirPods-Charging-...   \n",
       "2   1573042820-1471  https://www.amazon.com/Apple-AirPods-Charging-...   \n",
       "3   1573042975-2170  https://www.amazon.com/Apple-AirPods-Charging-...   \n",
       "4   1573043073-2606  https://www.amazon.com/Apple-AirPods-Charging-...   \n",
       "\n",
       "                           ReviewTitle  \\\n",
       "0                 Great wireless music   \n",
       "1       battery life dies really quick   \n",
       "2  The audio sound muffled (right ear)   \n",
       "3              Comprarlo sin problemas   \n",
       "4                                good！   \n",
       "\n",
       "                                          ReviewBody          ReviewStar  \\\n",
       "0                                Product as expecred  5.0 out of 5 stars   \n",
       "1  i really like my airpods but the battery life ...  4.0 out of 5 stars   \n",
       "2  I bought Airpods 2 on Amazon. But right ears w...  3.0 out of 5 stars   \n",
       "3                                            Perfect  5.0 out of 5 stars   \n",
       "4                                                 so  5.0 out of 5 stars   \n",
       "\n",
       "         next                                          next-href  \n",
       "0  Next page→  https://www.amazon.com/Apple-AirPods-Charging-...  \n",
       "1  Next page→  https://www.amazon.com/Apple-AirPods-Charging-...  \n",
       "2  Next page→  https://www.amazon.com/Apple-AirPods-Charging-...  \n",
       "3  Next page→  https://www.amazon.com/Apple-AirPods-Charging-...  \n",
       "4  Next page→  https://www.amazon.com/Apple-AirPods-Charging-...  "
      ]
     },
     "execution_count": 2,
     "metadata": {},
     "output_type": "execute_result"
    }
   ],
   "source": [
    "# Uploading the Apple Airpod reviews\n",
    "airpods = pd.read_csv('../datasets/airpod_amazon_review_scrape.csv')\n",
    "airpods.head()"
   ]
  },
  {
   "cell_type": "code",
   "execution_count": 3,
   "metadata": {},
   "outputs": [
    {
     "data": {
      "text/plain": [
       "(3414, 7)"
      ]
     },
     "execution_count": 3,
     "metadata": {},
     "output_type": "execute_result"
    }
   ],
   "source": [
    "airpods.shape"
   ]
  },
  {
   "cell_type": "code",
   "execution_count": 4,
   "metadata": {},
   "outputs": [],
   "source": [
    "# Dropping the unneccesary columns\n",
    "airpods.drop(columns=['web-scraper-order', 'web-scraper-start-url', 'next', 'next-href'], inplace=True)"
   ]
  },
  {
   "cell_type": "code",
   "execution_count": 5,
   "metadata": {},
   "outputs": [],
   "source": [
    "# Creating a product column\n",
    "airpods['Product'] = 'Apple Airpods-Latest Model'"
   ]
  },
  {
   "cell_type": "code",
   "execution_count": 6,
   "metadata": {},
   "outputs": [
    {
     "data": {
      "text/html": [
       "<div>\n",
       "<style scoped>\n",
       "    .dataframe tbody tr th:only-of-type {\n",
       "        vertical-align: middle;\n",
       "    }\n",
       "\n",
       "    .dataframe tbody tr th {\n",
       "        vertical-align: top;\n",
       "    }\n",
       "\n",
       "    .dataframe thead th {\n",
       "        text-align: right;\n",
       "    }\n",
       "</style>\n",
       "<table border=\"1\" class=\"dataframe\">\n",
       "  <thead>\n",
       "    <tr style=\"text-align: right;\">\n",
       "      <th></th>\n",
       "      <th>ReviewTitle</th>\n",
       "      <th>ReviewBody</th>\n",
       "      <th>ReviewStar</th>\n",
       "      <th>Product</th>\n",
       "    </tr>\n",
       "  </thead>\n",
       "  <tbody>\n",
       "    <tr>\n",
       "      <td>3409</td>\n",
       "      <td>Didn’t work</td>\n",
       "      <td>Air pods wouldn’t connect. Checked serial numb...</td>\n",
       "      <td>1.0 out of 5 stars</td>\n",
       "      <td>Apple Airpods-Latest Model</td>\n",
       "    </tr>\n",
       "    <tr>\n",
       "      <td>3410</td>\n",
       "      <td>Really work well</td>\n",
       "      <td>These are great. Battery lasts for hours.</td>\n",
       "      <td>5.0 out of 5 stars</td>\n",
       "      <td>Apple Airpods-Latest Model</td>\n",
       "    </tr>\n",
       "    <tr>\n",
       "      <td>3411</td>\n",
       "      <td>Great!</td>\n",
       "      <td>Airpod! It shows everything.</td>\n",
       "      <td>5.0 out of 5 stars</td>\n",
       "      <td>Apple Airpods-Latest Model</td>\n",
       "    </tr>\n",
       "    <tr>\n",
       "      <td>3412</td>\n",
       "      <td>Not latest model</td>\n",
       "      <td>This is not the wireless  charging  model this...</td>\n",
       "      <td>1.0 out of 5 stars</td>\n",
       "      <td>Apple Airpods-Latest Model</td>\n",
       "    </tr>\n",
       "    <tr>\n",
       "      <td>3413</td>\n",
       "      <td>Great gift for my girlfriend</td>\n",
       "      <td>This is a gift for my girlfriend. She likes it...</td>\n",
       "      <td>5.0 out of 5 stars</td>\n",
       "      <td>Apple Airpods-Latest Model</td>\n",
       "    </tr>\n",
       "  </tbody>\n",
       "</table>\n",
       "</div>"
      ],
      "text/plain": [
       "                       ReviewTitle  \\\n",
       "3409                   Didn’t work   \n",
       "3410              Really work well   \n",
       "3411                        Great!   \n",
       "3412              Not latest model   \n",
       "3413  Great gift for my girlfriend   \n",
       "\n",
       "                                             ReviewBody          ReviewStar  \\\n",
       "3409  Air pods wouldn’t connect. Checked serial numb...  1.0 out of 5 stars   \n",
       "3410          These are great. Battery lasts for hours.  5.0 out of 5 stars   \n",
       "3411                       Airpod! It shows everything.  5.0 out of 5 stars   \n",
       "3412  This is not the wireless  charging  model this...  1.0 out of 5 stars   \n",
       "3413  This is a gift for my girlfriend. She likes it...  5.0 out of 5 stars   \n",
       "\n",
       "                         Product  \n",
       "3409  Apple Airpods-Latest Model  \n",
       "3410  Apple Airpods-Latest Model  \n",
       "3411  Apple Airpods-Latest Model  \n",
       "3412  Apple Airpods-Latest Model  \n",
       "3413  Apple Airpods-Latest Model  "
      ]
     },
     "execution_count": 6,
     "metadata": {},
     "output_type": "execute_result"
    }
   ],
   "source": [
    "airpods.tail()"
   ]
  },
  {
   "cell_type": "code",
   "execution_count": 7,
   "metadata": {},
   "outputs": [
    {
     "data": {
      "text/plain": [
       "ReviewTitle    object\n",
       "ReviewBody     object\n",
       "ReviewStar     object\n",
       "Product        object\n",
       "dtype: object"
      ]
     },
     "execution_count": 7,
     "metadata": {},
     "output_type": "execute_result"
    }
   ],
   "source": [
    "airpods.dtypes"
   ]
  },
  {
   "cell_type": "code",
   "execution_count": 8,
   "metadata": {},
   "outputs": [
    {
     "data": {
      "text/plain": [
       "5.0 out of 5 stars    2565\n",
       "1.0 out of 5 stars     371\n",
       "4.0 out of 5 stars     245\n",
       "3.0 out of 5 stars     135\n",
       "2.0 out of 5 stars      97\n",
       "Name: ReviewStar, dtype: int64"
      ]
     },
     "execution_count": 8,
     "metadata": {},
     "output_type": "execute_result"
    }
   ],
   "source": [
    "airpods['ReviewStar'].value_counts()"
   ]
  },
  {
   "cell_type": "code",
   "execution_count": 9,
   "metadata": {},
   "outputs": [
    {
     "data": {
      "text/plain": [
       "5.0    2565\n",
       "1.0     371\n",
       "4.0     245\n",
       "3.0     135\n",
       "2.0      97\n",
       "Name: ReviewStar, dtype: int64"
      ]
     },
     "execution_count": 9,
     "metadata": {},
     "output_type": "execute_result"
    }
   ],
   "source": [
    "# Changing the review column to an integer datatype and mapping the values\n",
    "airpods['ReviewStar'] = airpods['ReviewStar'].map({'5.0 out of 5 stars': 5,\n",
    "                          '4.0 out of 5 stars' : 4,\n",
    "                          '3.0 out of 5 stars': 3,\n",
    "                          '2.0 out of 5 stars': 2,\n",
    "                          '1.0 out of 5 stars': 1})\n",
    "airpods['ReviewStar'].value_counts()"
   ]
  },
  {
   "cell_type": "code",
   "execution_count": 10,
   "metadata": {},
   "outputs": [
    {
     "data": {
      "text/plain": [
       "Index(['ReviewTitle', 'ReviewBody', 'ReviewStar', 'Product'], dtype='object')"
      ]
     },
     "execution_count": 10,
     "metadata": {},
     "output_type": "execute_result"
    }
   ],
   "source": [
    "airpods.columns"
   ]
  },
  {
   "cell_type": "code",
   "execution_count": 11,
   "metadata": {},
   "outputs": [],
   "source": [
    "airpods.rename(columns={'ReviewTitle': 'title',\n",
    "                        'ReviewBody': 'body',\n",
    "                        'ReviewStar':'rating',\n",
    "                        'Product': 'product'}, inplace=True)"
   ]
  },
  {
   "cell_type": "code",
   "execution_count": 12,
   "metadata": {},
   "outputs": [
    {
     "data": {
      "text/html": [
       "<div>\n",
       "<style scoped>\n",
       "    .dataframe tbody tr th:only-of-type {\n",
       "        vertical-align: middle;\n",
       "    }\n",
       "\n",
       "    .dataframe tbody tr th {\n",
       "        vertical-align: top;\n",
       "    }\n",
       "\n",
       "    .dataframe thead th {\n",
       "        text-align: right;\n",
       "    }\n",
       "</style>\n",
       "<table border=\"1\" class=\"dataframe\">\n",
       "  <thead>\n",
       "    <tr style=\"text-align: right;\">\n",
       "      <th></th>\n",
       "      <th>title</th>\n",
       "      <th>body</th>\n",
       "      <th>rating</th>\n",
       "      <th>product</th>\n",
       "    </tr>\n",
       "  </thead>\n",
       "  <tbody>\n",
       "    <tr>\n",
       "      <td>0</td>\n",
       "      <td>Great wireless music</td>\n",
       "      <td>Product as expecred</td>\n",
       "      <td>5.0</td>\n",
       "      <td>Apple Airpods-Latest Model</td>\n",
       "    </tr>\n",
       "    <tr>\n",
       "      <td>1</td>\n",
       "      <td>battery life dies really quick</td>\n",
       "      <td>i really like my airpods but the battery life ...</td>\n",
       "      <td>4.0</td>\n",
       "      <td>Apple Airpods-Latest Model</td>\n",
       "    </tr>\n",
       "    <tr>\n",
       "      <td>2</td>\n",
       "      <td>The audio sound muffled (right ear)</td>\n",
       "      <td>I bought Airpods 2 on Amazon. But right ears w...</td>\n",
       "      <td>3.0</td>\n",
       "      <td>Apple Airpods-Latest Model</td>\n",
       "    </tr>\n",
       "    <tr>\n",
       "      <td>3</td>\n",
       "      <td>Comprarlo sin problemas</td>\n",
       "      <td>Perfect</td>\n",
       "      <td>5.0</td>\n",
       "      <td>Apple Airpods-Latest Model</td>\n",
       "    </tr>\n",
       "    <tr>\n",
       "      <td>4</td>\n",
       "      <td>good！</td>\n",
       "      <td>so</td>\n",
       "      <td>5.0</td>\n",
       "      <td>Apple Airpods-Latest Model</td>\n",
       "    </tr>\n",
       "  </tbody>\n",
       "</table>\n",
       "</div>"
      ],
      "text/plain": [
       "                                 title  \\\n",
       "0                 Great wireless music   \n",
       "1       battery life dies really quick   \n",
       "2  The audio sound muffled (right ear)   \n",
       "3              Comprarlo sin problemas   \n",
       "4                                good！   \n",
       "\n",
       "                                                body  rating  \\\n",
       "0                                Product as expecred     5.0   \n",
       "1  i really like my airpods but the battery life ...     4.0   \n",
       "2  I bought Airpods 2 on Amazon. But right ears w...     3.0   \n",
       "3                                            Perfect     5.0   \n",
       "4                                                 so     5.0   \n",
       "\n",
       "                      product  \n",
       "0  Apple Airpods-Latest Model  \n",
       "1  Apple Airpods-Latest Model  \n",
       "2  Apple Airpods-Latest Model  \n",
       "3  Apple Airpods-Latest Model  \n",
       "4  Apple Airpods-Latest Model  "
      ]
     },
     "execution_count": 12,
     "metadata": {},
     "output_type": "execute_result"
    }
   ],
   "source": [
    "airpods.head()"
   ]
  },
  {
   "cell_type": "code",
   "execution_count": 13,
   "metadata": {},
   "outputs": [
    {
     "data": {
      "text/plain": [
       "title      3\n",
       "body       1\n",
       "rating     1\n",
       "product    0\n",
       "dtype: int64"
      ]
     },
     "execution_count": 13,
     "metadata": {},
     "output_type": "execute_result"
    }
   ],
   "source": [
    "# Checking for nulls\n",
    "airpods.isnull().sum()"
   ]
  },
  {
   "cell_type": "code",
   "execution_count": 14,
   "metadata": {},
   "outputs": [],
   "source": [
    "# These can be assumed to be missing at random, and they are such a small amount we can drop them\n",
    "airpods.dropna(inplace=True)"
   ]
  },
  {
   "cell_type": "code",
   "execution_count": 15,
   "metadata": {},
   "outputs": [
    {
     "data": {
      "text/plain": [
       "title      0\n",
       "body       0\n",
       "rating     0\n",
       "product    0\n",
       "dtype: int64"
      ]
     },
     "execution_count": 15,
     "metadata": {},
     "output_type": "execute_result"
    }
   ],
   "source": [
    "#Checking to see there are no more nulls\n",
    "airpods.isnull().sum()"
   ]
  },
  {
   "cell_type": "code",
   "execution_count": 16,
   "metadata": {},
   "outputs": [
    {
     "data": {
      "text/plain": [
       "(3362, 4)"
      ]
     },
     "execution_count": 16,
     "metadata": {},
     "output_type": "execute_result"
    }
   ],
   "source": [
    "# Dropping duplicates\n",
    "airpods.drop_duplicates(inplace=True)\n",
    "airpods.shape"
   ]
  },
  {
   "cell_type": "code",
   "execution_count": 17,
   "metadata": {},
   "outputs": [],
   "source": [
    "# saving to a new csv\n",
    "airpods.to_csv('../datasets/apple_reviews_eda.csv', index = False)"
   ]
  },
  {
   "cell_type": "markdown",
   "metadata": {},
   "source": [
    "### Tozo T10 Bluetooth Wireless Earbuds Reviews"
   ]
  },
  {
   "cell_type": "code",
   "execution_count": 18,
   "metadata": {},
   "outputs": [
    {
     "data": {
      "text/plain": [
       "(5001, 7)"
      ]
     },
     "execution_count": 18,
     "metadata": {},
     "output_type": "execute_result"
    }
   ],
   "source": [
    "# Reading in the data for the reviews on the TOZO10 Bluetooth Wireless Earbuds\n",
    "tozo = pd.read_csv('../datasets/tozot10_bluetooth_wireless_earbuds_amazon_reviews.csv')\n",
    "tozo.shape"
   ]
  },
  {
   "cell_type": "code",
   "execution_count": 19,
   "metadata": {},
   "outputs": [
    {
     "data": {
      "text/html": [
       "<div>\n",
       "<style scoped>\n",
       "    .dataframe tbody tr th:only-of-type {\n",
       "        vertical-align: middle;\n",
       "    }\n",
       "\n",
       "    .dataframe tbody tr th {\n",
       "        vertical-align: top;\n",
       "    }\n",
       "\n",
       "    .dataframe thead th {\n",
       "        text-align: right;\n",
       "    }\n",
       "</style>\n",
       "<table border=\"1\" class=\"dataframe\">\n",
       "  <thead>\n",
       "    <tr style=\"text-align: right;\">\n",
       "      <th></th>\n",
       "      <th>web-scraper-order</th>\n",
       "      <th>web-scraper-start-url</th>\n",
       "      <th>title</th>\n",
       "      <th>body</th>\n",
       "      <th>rating</th>\n",
       "      <th>next</th>\n",
       "      <th>next-href</th>\n",
       "    </tr>\n",
       "  </thead>\n",
       "  <tbody>\n",
       "    <tr>\n",
       "      <td>0</td>\n",
       "      <td>1573068482-22176</td>\n",
       "      <td>https://www.amazon.com/TOZO-Bluetooth-Wireless...</td>\n",
       "      <td>Sounds great, but low battery life</td>\n",
       "      <td>They really do sound good, but the battery lif...</td>\n",
       "      <td>3.0 out of 5 stars</td>\n",
       "      <td>Next page→</td>\n",
       "      <td>https://www.amazon.com/TOZO-Bluetooth-Wireless...</td>\n",
       "    </tr>\n",
       "    <tr>\n",
       "      <td>1</td>\n",
       "      <td>1573067991-20581</td>\n",
       "      <td>https://www.amazon.com/TOZO-Bluetooth-Wireless...</td>\n",
       "      <td>Comfortable &amp; great sounding earbuds</td>\n",
       "      <td>Really like my new earbuds.  They are comforta...</td>\n",
       "      <td>5.0 out of 5 stars</td>\n",
       "      <td>Next page→</td>\n",
       "      <td>https://www.amazon.com/TOZO-Bluetooth-Wireless...</td>\n",
       "    </tr>\n",
       "    <tr>\n",
       "      <td>2</td>\n",
       "      <td>1573068236-21380</td>\n",
       "      <td>https://www.amazon.com/TOZO-Bluetooth-Wireless...</td>\n",
       "      <td>These are the best earbuds for music!!!</td>\n",
       "      <td>I am soooo pleased with these earbuds!  I’ve t...</td>\n",
       "      <td>5.0 out of 5 stars</td>\n",
       "      <td>Next page→</td>\n",
       "      <td>https://www.amazon.com/TOZO-Bluetooth-Wireless...</td>\n",
       "    </tr>\n",
       "    <tr>\n",
       "      <td>3</td>\n",
       "      <td>1573067954-20468</td>\n",
       "      <td>https://www.amazon.com/TOZO-Bluetooth-Wireless...</td>\n",
       "      <td>Great Sound Quality and Waterproof In Steam Room</td>\n",
       "      <td>Love these earbuds, needed them to use in a st...</td>\n",
       "      <td>5.0 out of 5 stars</td>\n",
       "      <td>Next page→</td>\n",
       "      <td>https://www.amazon.com/TOZO-Bluetooth-Wireless...</td>\n",
       "    </tr>\n",
       "    <tr>\n",
       "      <td>4</td>\n",
       "      <td>1573068262-21459</td>\n",
       "      <td>https://www.amazon.com/TOZO-Bluetooth-Wireless...</td>\n",
       "      <td>Excellent Quality, Sound, and battery life</td>\n",
       "      <td>These earbuds are excellent! They have some of...</td>\n",
       "      <td>4.0 out of 5 stars</td>\n",
       "      <td>Next page→</td>\n",
       "      <td>https://www.amazon.com/TOZO-Bluetooth-Wireless...</td>\n",
       "    </tr>\n",
       "  </tbody>\n",
       "</table>\n",
       "</div>"
      ],
      "text/plain": [
       "  web-scraper-order                              web-scraper-start-url  \\\n",
       "0  1573068482-22176  https://www.amazon.com/TOZO-Bluetooth-Wireless...   \n",
       "1  1573067991-20581  https://www.amazon.com/TOZO-Bluetooth-Wireless...   \n",
       "2  1573068236-21380  https://www.amazon.com/TOZO-Bluetooth-Wireless...   \n",
       "3  1573067954-20468  https://www.amazon.com/TOZO-Bluetooth-Wireless...   \n",
       "4  1573068262-21459  https://www.amazon.com/TOZO-Bluetooth-Wireless...   \n",
       "\n",
       "                                              title  \\\n",
       "0                Sounds great, but low battery life   \n",
       "1              Comfortable & great sounding earbuds   \n",
       "2           These are the best earbuds for music!!!   \n",
       "3  Great Sound Quality and Waterproof In Steam Room   \n",
       "4        Excellent Quality, Sound, and battery life   \n",
       "\n",
       "                                                body              rating  \\\n",
       "0  They really do sound good, but the battery lif...  3.0 out of 5 stars   \n",
       "1  Really like my new earbuds.  They are comforta...  5.0 out of 5 stars   \n",
       "2  I am soooo pleased with these earbuds!  I’ve t...  5.0 out of 5 stars   \n",
       "3  Love these earbuds, needed them to use in a st...  5.0 out of 5 stars   \n",
       "4  These earbuds are excellent! They have some of...  4.0 out of 5 stars   \n",
       "\n",
       "         next                                          next-href  \n",
       "0  Next page→  https://www.amazon.com/TOZO-Bluetooth-Wireless...  \n",
       "1  Next page→  https://www.amazon.com/TOZO-Bluetooth-Wireless...  \n",
       "2  Next page→  https://www.amazon.com/TOZO-Bluetooth-Wireless...  \n",
       "3  Next page→  https://www.amazon.com/TOZO-Bluetooth-Wireless...  \n",
       "4  Next page→  https://www.amazon.com/TOZO-Bluetooth-Wireless...  "
      ]
     },
     "execution_count": 19,
     "metadata": {},
     "output_type": "execute_result"
    }
   ],
   "source": [
    "tozo.head()"
   ]
  },
  {
   "cell_type": "code",
   "execution_count": 20,
   "metadata": {},
   "outputs": [
    {
     "data": {
      "text/plain": [
       "Index(['web-scraper-order', 'web-scraper-start-url', 'title', 'body', 'rating',\n",
       "       'next', 'next-href'],\n",
       "      dtype='object')"
      ]
     },
     "execution_count": 20,
     "metadata": {},
     "output_type": "execute_result"
    }
   ],
   "source": [
    "tozo.columns"
   ]
  },
  {
   "cell_type": "code",
   "execution_count": 21,
   "metadata": {},
   "outputs": [],
   "source": [
    "tozo.drop(columns=['web-scraper-order', 'web-scraper-start-url', 'next', 'next-href'], inplace=True)"
   ]
  },
  {
   "cell_type": "code",
   "execution_count": 22,
   "metadata": {},
   "outputs": [
    {
     "data": {
      "text/plain": [
       "Index(['title', 'body', 'rating'], dtype='object')"
      ]
     },
     "execution_count": 22,
     "metadata": {},
     "output_type": "execute_result"
    }
   ],
   "source": [
    "tozo.columns"
   ]
  },
  {
   "cell_type": "code",
   "execution_count": 23,
   "metadata": {},
   "outputs": [
    {
     "data": {
      "text/plain": [
       "5.0 out of 5 stars    3228\n",
       "4.0 out of 5 stars     665\n",
       "1.0 out of 5 stars     398\n",
       "2.0 out of 5 stars     360\n",
       "3.0 out of 5 stars     349\n",
       "Name: rating, dtype: int64"
      ]
     },
     "execution_count": 23,
     "metadata": {},
     "output_type": "execute_result"
    }
   ],
   "source": [
    "tozo.rating.value_counts()"
   ]
  },
  {
   "cell_type": "code",
   "execution_count": 24,
   "metadata": {},
   "outputs": [
    {
     "data": {
      "text/plain": [
       "5.0    3228\n",
       "4.0     665\n",
       "1.0     398\n",
       "2.0     360\n",
       "3.0     349\n",
       "Name: rating, dtype: int64"
      ]
     },
     "execution_count": 24,
     "metadata": {},
     "output_type": "execute_result"
    }
   ],
   "source": [
    "# Changing the review column to an integer datatype and mapping the values\n",
    "tozo['rating'] = tozo['rating'].map({'5.0 out of 5 stars': 5,\n",
    "                          '4.0 out of 5 stars' : 4,\n",
    "                          '3.0 out of 5 stars': 3,\n",
    "                          '2.0 out of 5 stars': 2,\n",
    "                          '1.0 out of 5 stars': 1})\n",
    "tozo['rating'].value_counts()"
   ]
  },
  {
   "cell_type": "code",
   "execution_count": 25,
   "metadata": {},
   "outputs": [
    {
     "data": {
      "text/plain": [
       "title     1\n",
       "body      1\n",
       "rating    1\n",
       "dtype: int64"
      ]
     },
     "execution_count": 25,
     "metadata": {},
     "output_type": "execute_result"
    }
   ],
   "source": [
    "# Checking for nulls\n",
    "tozo.isnull().sum()"
   ]
  },
  {
   "cell_type": "code",
   "execution_count": 26,
   "metadata": {},
   "outputs": [
    {
     "data": {
      "text/plain": [
       "title     0\n",
       "body      0\n",
       "rating    0\n",
       "dtype: int64"
      ]
     },
     "execution_count": 26,
     "metadata": {},
     "output_type": "execute_result"
    }
   ],
   "source": [
    "# Dropping the nulls (MAR)\n",
    "tozo.dropna(inplace=True)\n",
    "tozo.isnull().sum()"
   ]
  },
  {
   "cell_type": "code",
   "execution_count": 27,
   "metadata": {},
   "outputs": [
    {
     "data": {
      "text/plain": [
       "(5000, 3)"
      ]
     },
     "execution_count": 27,
     "metadata": {},
     "output_type": "execute_result"
    }
   ],
   "source": [
    "# Dropping Duplicates\n",
    "tozo.drop_duplicates(inplace=True)\n",
    "tozo.shape"
   ]
  },
  {
   "cell_type": "code",
   "execution_count": 28,
   "metadata": {},
   "outputs": [
    {
     "data": {
      "text/html": [
       "<div>\n",
       "<style scoped>\n",
       "    .dataframe tbody tr th:only-of-type {\n",
       "        vertical-align: middle;\n",
       "    }\n",
       "\n",
       "    .dataframe tbody tr th {\n",
       "        vertical-align: top;\n",
       "    }\n",
       "\n",
       "    .dataframe thead th {\n",
       "        text-align: right;\n",
       "    }\n",
       "</style>\n",
       "<table border=\"1\" class=\"dataframe\">\n",
       "  <thead>\n",
       "    <tr style=\"text-align: right;\">\n",
       "      <th></th>\n",
       "      <th>title</th>\n",
       "      <th>body</th>\n",
       "      <th>rating</th>\n",
       "      <th>product</th>\n",
       "    </tr>\n",
       "  </thead>\n",
       "  <tbody>\n",
       "    <tr>\n",
       "      <td>0</td>\n",
       "      <td>Sounds great, but low battery life</td>\n",
       "      <td>They really do sound good, but the battery lif...</td>\n",
       "      <td>3.0</td>\n",
       "      <td>Tozo10 Bluetooth Wireless Earbuds</td>\n",
       "    </tr>\n",
       "    <tr>\n",
       "      <td>1</td>\n",
       "      <td>Comfortable &amp; great sounding earbuds</td>\n",
       "      <td>Really like my new earbuds.  They are comforta...</td>\n",
       "      <td>5.0</td>\n",
       "      <td>Tozo10 Bluetooth Wireless Earbuds</td>\n",
       "    </tr>\n",
       "    <tr>\n",
       "      <td>2</td>\n",
       "      <td>These are the best earbuds for music!!!</td>\n",
       "      <td>I am soooo pleased with these earbuds!  I’ve t...</td>\n",
       "      <td>5.0</td>\n",
       "      <td>Tozo10 Bluetooth Wireless Earbuds</td>\n",
       "    </tr>\n",
       "    <tr>\n",
       "      <td>3</td>\n",
       "      <td>Great Sound Quality and Waterproof In Steam Room</td>\n",
       "      <td>Love these earbuds, needed them to use in a st...</td>\n",
       "      <td>5.0</td>\n",
       "      <td>Tozo10 Bluetooth Wireless Earbuds</td>\n",
       "    </tr>\n",
       "    <tr>\n",
       "      <td>4</td>\n",
       "      <td>Excellent Quality, Sound, and battery life</td>\n",
       "      <td>These earbuds are excellent! They have some of...</td>\n",
       "      <td>4.0</td>\n",
       "      <td>Tozo10 Bluetooth Wireless Earbuds</td>\n",
       "    </tr>\n",
       "  </tbody>\n",
       "</table>\n",
       "</div>"
      ],
      "text/plain": [
       "                                              title  \\\n",
       "0                Sounds great, but low battery life   \n",
       "1              Comfortable & great sounding earbuds   \n",
       "2           These are the best earbuds for music!!!   \n",
       "3  Great Sound Quality and Waterproof In Steam Room   \n",
       "4        Excellent Quality, Sound, and battery life   \n",
       "\n",
       "                                                body  rating  \\\n",
       "0  They really do sound good, but the battery lif...     3.0   \n",
       "1  Really like my new earbuds.  They are comforta...     5.0   \n",
       "2  I am soooo pleased with these earbuds!  I’ve t...     5.0   \n",
       "3  Love these earbuds, needed them to use in a st...     5.0   \n",
       "4  These earbuds are excellent! They have some of...     4.0   \n",
       "\n",
       "                             product  \n",
       "0  Tozo10 Bluetooth Wireless Earbuds  \n",
       "1  Tozo10 Bluetooth Wireless Earbuds  \n",
       "2  Tozo10 Bluetooth Wireless Earbuds  \n",
       "3  Tozo10 Bluetooth Wireless Earbuds  \n",
       "4  Tozo10 Bluetooth Wireless Earbuds  "
      ]
     },
     "execution_count": 28,
     "metadata": {},
     "output_type": "execute_result"
    }
   ],
   "source": [
    "#Adding a product column\n",
    "tozo['product'] = 'Tozo10 Bluetooth Wireless Earbuds'\n",
    "tozo.head()"
   ]
  },
  {
   "cell_type": "code",
   "execution_count": 29,
   "metadata": {},
   "outputs": [],
   "source": [
    "# saving to a new CSV\n",
    "tozo.to_csv('../datasets/tozo_reviews_eda.csv', index = False )"
   ]
  },
  {
   "cell_type": "markdown",
   "metadata": {},
   "source": [
    "### Samsung Galaxybuds Amazon Reviews"
   ]
  },
  {
   "cell_type": "code",
   "execution_count": 30,
   "metadata": {},
   "outputs": [
    {
     "data": {
      "text/plain": [
       "(2768, 7)"
      ]
     },
     "execution_count": 30,
     "metadata": {},
     "output_type": "execute_result"
    }
   ],
   "source": [
    "samsung = pd.read_csv('../datasets/samsung_galaxybud_amazon_reviews.csv')\n",
    "samsung.shape"
   ]
  },
  {
   "cell_type": "code",
   "execution_count": 31,
   "metadata": {},
   "outputs": [
    {
     "data": {
      "text/plain": [
       "Index(['web-scraper-order', 'web-scraper-start-url', 'ReviewTitle',\n",
       "       'ReviewBody', 'ReviewRating', 'next', 'next-href'],\n",
       "      dtype='object')"
      ]
     },
     "execution_count": 31,
     "metadata": {},
     "output_type": "execute_result"
    }
   ],
   "source": [
    "samsung.columns"
   ]
  },
  {
   "cell_type": "code",
   "execution_count": 32,
   "metadata": {},
   "outputs": [
    {
     "data": {
      "text/html": [
       "<div>\n",
       "<style scoped>\n",
       "    .dataframe tbody tr th:only-of-type {\n",
       "        vertical-align: middle;\n",
       "    }\n",
       "\n",
       "    .dataframe tbody tr th {\n",
       "        vertical-align: top;\n",
       "    }\n",
       "\n",
       "    .dataframe thead th {\n",
       "        text-align: right;\n",
       "    }\n",
       "</style>\n",
       "<table border=\"1\" class=\"dataframe\">\n",
       "  <thead>\n",
       "    <tr style=\"text-align: right;\">\n",
       "      <th></th>\n",
       "      <th>title</th>\n",
       "      <th>body</th>\n",
       "      <th>rating</th>\n",
       "      <th>product</th>\n",
       "    </tr>\n",
       "  </thead>\n",
       "  <tbody>\n",
       "    <tr>\n",
       "      <td>0</td>\n",
       "      <td>Stay in well</td>\n",
       "      <td>They kinda hurt after a couple of hours  but o...</td>\n",
       "      <td>4.0 out of 5 stars</td>\n",
       "      <td>Samsung Galaxybuds (latest model)</td>\n",
       "    </tr>\n",
       "    <tr>\n",
       "      <td>1</td>\n",
       "      <td>Terrible sound quality</td>\n",
       "      <td>It was good at first but the sound quality wen...</td>\n",
       "      <td>1.0 out of 5 stars</td>\n",
       "      <td>Samsung Galaxybuds (latest model)</td>\n",
       "    </tr>\n",
       "    <tr>\n",
       "      <td>2</td>\n",
       "      <td>Sweet buds</td>\n",
       "      <td>Excellent sound for buds and crystal clear voi...</td>\n",
       "      <td>5.0 out of 5 stars</td>\n",
       "      <td>Samsung Galaxybuds (latest model)</td>\n",
       "    </tr>\n",
       "    <tr>\n",
       "      <td>3</td>\n",
       "      <td>Very bad bluetooth and poor volume</td>\n",
       "      <td>I got mine for free with the S10 and figured I...</td>\n",
       "      <td>1.0 out of 5 stars</td>\n",
       "      <td>Samsung Galaxybuds (latest model)</td>\n",
       "    </tr>\n",
       "    <tr>\n",
       "      <td>4</td>\n",
       "      <td>Please get it right Samsung!</td>\n",
       "      <td>Maybe I am doing it wrong but I bought these h...</td>\n",
       "      <td>3.0 out of 5 stars</td>\n",
       "      <td>Samsung Galaxybuds (latest model)</td>\n",
       "    </tr>\n",
       "  </tbody>\n",
       "</table>\n",
       "</div>"
      ],
      "text/plain": [
       "                                title  \\\n",
       "0                        Stay in well   \n",
       "1              Terrible sound quality   \n",
       "2                          Sweet buds   \n",
       "3  Very bad bluetooth and poor volume   \n",
       "4        Please get it right Samsung!   \n",
       "\n",
       "                                                body              rating  \\\n",
       "0  They kinda hurt after a couple of hours  but o...  4.0 out of 5 stars   \n",
       "1  It was good at first but the sound quality wen...  1.0 out of 5 stars   \n",
       "2  Excellent sound for buds and crystal clear voi...  5.0 out of 5 stars   \n",
       "3  I got mine for free with the S10 and figured I...  1.0 out of 5 stars   \n",
       "4  Maybe I am doing it wrong but I bought these h...  3.0 out of 5 stars   \n",
       "\n",
       "                             product  \n",
       "0  Samsung Galaxybuds (latest model)  \n",
       "1  Samsung Galaxybuds (latest model)  \n",
       "2  Samsung Galaxybuds (latest model)  \n",
       "3  Samsung Galaxybuds (latest model)  \n",
       "4  Samsung Galaxybuds (latest model)  "
      ]
     },
     "execution_count": 32,
     "metadata": {},
     "output_type": "execute_result"
    }
   ],
   "source": [
    "#Dropping the unneeded columns\n",
    "samsung.drop(columns=['web-scraper-order', \n",
    "                      'web-scraper-start-url',\n",
    "                      'next', 'next-href'], inplace=True)\n",
    "#Renaming the columns\n",
    "samsung.rename(columns = {\n",
    "    'ReviewTitle': 'title',\n",
    "    'ReviewBody': 'body',\n",
    "    'ReviewRating': 'rating'\n",
    "}, inplace=True )\n",
    "#Adding the product column\n",
    "samsung['product'] = 'Samsung Galaxybuds (latest model)'\n",
    "#Checking\n",
    "samsung.head()"
   ]
  },
  {
   "cell_type": "code",
   "execution_count": 33,
   "metadata": {},
   "outputs": [
    {
     "data": {
      "text/plain": [
       "5.0    1590\n",
       "4.0     409\n",
       "1.0     313\n",
       "2.0     230\n",
       "3.0     225\n",
       "Name: rating, dtype: int64"
      ]
     },
     "execution_count": 33,
     "metadata": {},
     "output_type": "execute_result"
    }
   ],
   "source": [
    "# Changing the review column to an integer datatype and mapping the values\n",
    "samsung['rating'] = samsung['rating'].map({'5.0 out of 5 stars': 5,\n",
    "                          '4.0 out of 5 stars' : 4,\n",
    "                          '3.0 out of 5 stars': 3,\n",
    "                          '2.0 out of 5 stars': 2,\n",
    "                          '1.0 out of 5 stars': 1})\n",
    "samsung['rating'].value_counts()"
   ]
  },
  {
   "cell_type": "code",
   "execution_count": 34,
   "metadata": {},
   "outputs": [
    {
     "data": {
      "text/plain": [
       "title      2\n",
       "body       1\n",
       "rating     1\n",
       "product    0\n",
       "dtype: int64"
      ]
     },
     "execution_count": 34,
     "metadata": {},
     "output_type": "execute_result"
    }
   ],
   "source": [
    "# Checking for nulls\n",
    "samsung.isnull().sum()"
   ]
  },
  {
   "cell_type": "code",
   "execution_count": 35,
   "metadata": {},
   "outputs": [
    {
     "data": {
      "text/plain": [
       "title      0\n",
       "body       0\n",
       "rating     0\n",
       "product    0\n",
       "dtype: int64"
      ]
     },
     "execution_count": 35,
     "metadata": {},
     "output_type": "execute_result"
    }
   ],
   "source": [
    "# Dropping the nulls - MAR\n",
    "samsung.dropna(inplace=True)\n",
    "samsung.isnull().sum()"
   ]
  },
  {
   "cell_type": "code",
   "execution_count": 36,
   "metadata": {},
   "outputs": [
    {
     "data": {
      "text/plain": [
       "(2746, 4)"
      ]
     },
     "execution_count": 36,
     "metadata": {},
     "output_type": "execute_result"
    }
   ],
   "source": [
    "# Dropping Duplicates\n",
    "samsung.drop_duplicates(inplace=True)\n",
    "samsung.shape"
   ]
  },
  {
   "cell_type": "code",
   "execution_count": 37,
   "metadata": {},
   "outputs": [
    {
     "data": {
      "text/html": [
       "<div>\n",
       "<style scoped>\n",
       "    .dataframe tbody tr th:only-of-type {\n",
       "        vertical-align: middle;\n",
       "    }\n",
       "\n",
       "    .dataframe tbody tr th {\n",
       "        vertical-align: top;\n",
       "    }\n",
       "\n",
       "    .dataframe thead th {\n",
       "        text-align: right;\n",
       "    }\n",
       "</style>\n",
       "<table border=\"1\" class=\"dataframe\">\n",
       "  <thead>\n",
       "    <tr style=\"text-align: right;\">\n",
       "      <th></th>\n",
       "      <th>title</th>\n",
       "      <th>body</th>\n",
       "      <th>rating</th>\n",
       "      <th>product</th>\n",
       "    </tr>\n",
       "  </thead>\n",
       "  <tbody>\n",
       "    <tr>\n",
       "      <td>0</td>\n",
       "      <td>Stay in well</td>\n",
       "      <td>They kinda hurt after a couple of hours  but o...</td>\n",
       "      <td>4.0</td>\n",
       "      <td>Samsung Galaxybuds (latest model)</td>\n",
       "    </tr>\n",
       "    <tr>\n",
       "      <td>1</td>\n",
       "      <td>Terrible sound quality</td>\n",
       "      <td>It was good at first but the sound quality wen...</td>\n",
       "      <td>1.0</td>\n",
       "      <td>Samsung Galaxybuds (latest model)</td>\n",
       "    </tr>\n",
       "    <tr>\n",
       "      <td>2</td>\n",
       "      <td>Sweet buds</td>\n",
       "      <td>Excellent sound for buds and crystal clear voi...</td>\n",
       "      <td>5.0</td>\n",
       "      <td>Samsung Galaxybuds (latest model)</td>\n",
       "    </tr>\n",
       "    <tr>\n",
       "      <td>3</td>\n",
       "      <td>Very bad bluetooth and poor volume</td>\n",
       "      <td>I got mine for free with the S10 and figured I...</td>\n",
       "      <td>1.0</td>\n",
       "      <td>Samsung Galaxybuds (latest model)</td>\n",
       "    </tr>\n",
       "    <tr>\n",
       "      <td>4</td>\n",
       "      <td>Please get it right Samsung!</td>\n",
       "      <td>Maybe I am doing it wrong but I bought these h...</td>\n",
       "      <td>3.0</td>\n",
       "      <td>Samsung Galaxybuds (latest model)</td>\n",
       "    </tr>\n",
       "  </tbody>\n",
       "</table>\n",
       "</div>"
      ],
      "text/plain": [
       "                                title  \\\n",
       "0                        Stay in well   \n",
       "1              Terrible sound quality   \n",
       "2                          Sweet buds   \n",
       "3  Very bad bluetooth and poor volume   \n",
       "4        Please get it right Samsung!   \n",
       "\n",
       "                                                body  rating  \\\n",
       "0  They kinda hurt after a couple of hours  but o...     4.0   \n",
       "1  It was good at first but the sound quality wen...     1.0   \n",
       "2  Excellent sound for buds and crystal clear voi...     5.0   \n",
       "3  I got mine for free with the S10 and figured I...     1.0   \n",
       "4  Maybe I am doing it wrong but I bought these h...     3.0   \n",
       "\n",
       "                             product  \n",
       "0  Samsung Galaxybuds (latest model)  \n",
       "1  Samsung Galaxybuds (latest model)  \n",
       "2  Samsung Galaxybuds (latest model)  \n",
       "3  Samsung Galaxybuds (latest model)  \n",
       "4  Samsung Galaxybuds (latest model)  "
      ]
     },
     "execution_count": 37,
     "metadata": {},
     "output_type": "execute_result"
    }
   ],
   "source": [
    "samsung.head()"
   ]
  },
  {
   "cell_type": "code",
   "execution_count": 38,
   "metadata": {},
   "outputs": [],
   "source": [
    "# Saving to a new csv\n",
    "samsung.to_csv('../datasets/samsung_galaxybuds_reviews_eda.csv', index=False)"
   ]
  },
  {
   "cell_type": "markdown",
   "metadata": {},
   "source": [
    "### TrelabJ1 Elite Wireless Running Earphone Reviews"
   ]
  },
  {
   "cell_type": "code",
   "execution_count": 39,
   "metadata": {},
   "outputs": [],
   "source": [
    "trelab = pd.read_csv('../datasets/trelabj1_elite_wireless_running_earphones_amazon_reviews.csv')"
   ]
  },
  {
   "cell_type": "code",
   "execution_count": 40,
   "metadata": {},
   "outputs": [
    {
     "data": {
      "text/plain": [
       "(1480, 7)"
      ]
     },
     "execution_count": 40,
     "metadata": {},
     "output_type": "execute_result"
    }
   ],
   "source": [
    "trelab.shape"
   ]
  },
  {
   "cell_type": "code",
   "execution_count": 41,
   "metadata": {},
   "outputs": [
    {
     "data": {
      "text/plain": [
       "Index(['web-scraper-order', 'web-scraper-start-url', 'title', 'body', 'rating',\n",
       "       'next', 'next-href'],\n",
       "      dtype='object')"
      ]
     },
     "execution_count": 41,
     "metadata": {},
     "output_type": "execute_result"
    }
   ],
   "source": [
    "trelab.columns"
   ]
  },
  {
   "cell_type": "code",
   "execution_count": 42,
   "metadata": {},
   "outputs": [
    {
     "data": {
      "text/html": [
       "<div>\n",
       "<style scoped>\n",
       "    .dataframe tbody tr th:only-of-type {\n",
       "        vertical-align: middle;\n",
       "    }\n",
       "\n",
       "    .dataframe tbody tr th {\n",
       "        vertical-align: top;\n",
       "    }\n",
       "\n",
       "    .dataframe thead th {\n",
       "        text-align: right;\n",
       "    }\n",
       "</style>\n",
       "<table border=\"1\" class=\"dataframe\">\n",
       "  <thead>\n",
       "    <tr style=\"text-align: right;\">\n",
       "      <th></th>\n",
       "      <th>title</th>\n",
       "      <th>body</th>\n",
       "      <th>rating</th>\n",
       "      <th>product</th>\n",
       "    </tr>\n",
       "  </thead>\n",
       "  <tbody>\n",
       "    <tr>\n",
       "      <td>0</td>\n",
       "      <td>I think the sound quality is good when you get...</td>\n",
       "      <td>I think the sound quality is good  when you ge...</td>\n",
       "      <td>4.0 out of 5 stars</td>\n",
       "      <td>TrelabJ1 Elite Wireless Running Earphones</td>\n",
       "    </tr>\n",
       "    <tr>\n",
       "      <td>1</td>\n",
       "      <td>I was expecting more</td>\n",
       "      <td>I feel like $50 is a reasonable amount to spen...</td>\n",
       "      <td>2.0 out of 5 stars</td>\n",
       "      <td>TrelabJ1 Elite Wireless Running Earphones</td>\n",
       "    </tr>\n",
       "    <tr>\n",
       "      <td>2</td>\n",
       "      <td>Ive had these headphones for a little over a m...</td>\n",
       "      <td>I had a problem with these headphones and I ta...</td>\n",
       "      <td>5.0 out of 5 stars</td>\n",
       "      <td>TrelabJ1 Elite Wireless Running Earphones</td>\n",
       "    </tr>\n",
       "    <tr>\n",
       "      <td>3</td>\n",
       "      <td>Great Customer Support</td>\n",
       "      <td>Really liked this product for the first few mo...</td>\n",
       "      <td>5.0 out of 5 stars</td>\n",
       "      <td>TrelabJ1 Elite Wireless Running Earphones</td>\n",
       "    </tr>\n",
       "    <tr>\n",
       "      <td>4</td>\n",
       "      <td>Five Stars</td>\n",
       "      <td>amazing pair of earbuds very very high quality...</td>\n",
       "      <td>5.0 out of 5 stars</td>\n",
       "      <td>TrelabJ1 Elite Wireless Running Earphones</td>\n",
       "    </tr>\n",
       "  </tbody>\n",
       "</table>\n",
       "</div>"
      ],
      "text/plain": [
       "                                               title  \\\n",
       "0  I think the sound quality is good when you get...   \n",
       "1                               I was expecting more   \n",
       "2  Ive had these headphones for a little over a m...   \n",
       "3                             Great Customer Support   \n",
       "4                                         Five Stars   \n",
       "\n",
       "                                                body              rating  \\\n",
       "0  I think the sound quality is good  when you ge...  4.0 out of 5 stars   \n",
       "1  I feel like $50 is a reasonable amount to spen...  2.0 out of 5 stars   \n",
       "2  I had a problem with these headphones and I ta...  5.0 out of 5 stars   \n",
       "3  Really liked this product for the first few mo...  5.0 out of 5 stars   \n",
       "4  amazing pair of earbuds very very high quality...  5.0 out of 5 stars   \n",
       "\n",
       "                                     product  \n",
       "0  TrelabJ1 Elite Wireless Running Earphones  \n",
       "1  TrelabJ1 Elite Wireless Running Earphones  \n",
       "2  TrelabJ1 Elite Wireless Running Earphones  \n",
       "3  TrelabJ1 Elite Wireless Running Earphones  \n",
       "4  TrelabJ1 Elite Wireless Running Earphones  "
      ]
     },
     "execution_count": 42,
     "metadata": {},
     "output_type": "execute_result"
    }
   ],
   "source": [
    "#Dropping the unneeded columns\n",
    "trelab.drop(columns=['web-scraper-order', \n",
    "                      'web-scraper-start-url',\n",
    "                      'next', 'next-href'], inplace=True)\n",
    "\n",
    "#Adding the product column\n",
    "trelab['product'] = 'TrelabJ1 Elite Wireless Running Earphones'\n",
    "#Checking\n",
    "trelab.head()"
   ]
  },
  {
   "cell_type": "code",
   "execution_count": 43,
   "metadata": {},
   "outputs": [
    {
     "data": {
      "text/plain": [
       "5.0    770\n",
       "4.0    273\n",
       "1.0    177\n",
       "2.0    132\n",
       "3.0    127\n",
       "Name: rating, dtype: int64"
      ]
     },
     "execution_count": 43,
     "metadata": {},
     "output_type": "execute_result"
    }
   ],
   "source": [
    "# Changing the review column to an integer datatype and mapping the values\n",
    "trelab['rating'] = trelab['rating'].map({'5.0 out of 5 stars': 5,\n",
    "                          '4.0 out of 5 stars' : 4,\n",
    "                          '3.0 out of 5 stars': 3,\n",
    "                          '2.0 out of 5 stars': 2,\n",
    "                          '1.0 out of 5 stars': 1})\n",
    "trelab['rating'].value_counts()"
   ]
  },
  {
   "cell_type": "code",
   "execution_count": 44,
   "metadata": {},
   "outputs": [
    {
     "data": {
      "text/plain": [
       "title      2\n",
       "body       1\n",
       "rating     1\n",
       "product    0\n",
       "dtype: int64"
      ]
     },
     "execution_count": 44,
     "metadata": {},
     "output_type": "execute_result"
    }
   ],
   "source": [
    "# Checking for nulls\n",
    "trelab.isnull().sum()"
   ]
  },
  {
   "cell_type": "code",
   "execution_count": 45,
   "metadata": {},
   "outputs": [
    {
     "data": {
      "text/plain": [
       "title      0\n",
       "body       0\n",
       "rating     0\n",
       "product    0\n",
       "dtype: int64"
      ]
     },
     "execution_count": 45,
     "metadata": {},
     "output_type": "execute_result"
    }
   ],
   "source": [
    "# Dropping the MAR nulls\n",
    "trelab.dropna(inplace=True)\n",
    "trelab.isnull().sum()"
   ]
  },
  {
   "cell_type": "code",
   "execution_count": 46,
   "metadata": {},
   "outputs": [
    {
     "data": {
      "text/plain": [
       "(1478, 4)"
      ]
     },
     "execution_count": 46,
     "metadata": {},
     "output_type": "execute_result"
    }
   ],
   "source": [
    "# Dropping duplicates\n",
    "trelab.drop_duplicates(inplace=True)\n",
    "trelab.shape"
   ]
  },
  {
   "cell_type": "code",
   "execution_count": 47,
   "metadata": {},
   "outputs": [],
   "source": [
    "# Saving into a new csv\n",
    "trelab.to_csv('../datasets/trelabJ1_wireless_reviews_eda.csv', index=False)"
   ]
  },
  {
   "cell_type": "markdown",
   "metadata": {},
   "source": [
    "### Bose SountSport Wireless Reviews"
   ]
  },
  {
   "cell_type": "code",
   "execution_count": 48,
   "metadata": {},
   "outputs": [
    {
     "data": {
      "text/plain": [
       "(5001, 7)"
      ]
     },
     "execution_count": 48,
     "metadata": {},
     "output_type": "execute_result"
    }
   ],
   "source": [
    "bose = pd.read_csv('../datasets/bose_soundsportwireless_amazon_reviews.csv')\n",
    "bose.shape"
   ]
  },
  {
   "cell_type": "code",
   "execution_count": 49,
   "metadata": {},
   "outputs": [
    {
     "data": {
      "text/plain": [
       "Index(['web-scraper-order', 'web-scraper-start-url', 'title', 'content',\n",
       "       'rating', 'next', 'next-href'],\n",
       "      dtype='object')"
      ]
     },
     "execution_count": 49,
     "metadata": {},
     "output_type": "execute_result"
    }
   ],
   "source": [
    "bose.columns"
   ]
  },
  {
   "cell_type": "code",
   "execution_count": 50,
   "metadata": {},
   "outputs": [
    {
     "data": {
      "text/html": [
       "<div>\n",
       "<style scoped>\n",
       "    .dataframe tbody tr th:only-of-type {\n",
       "        vertical-align: middle;\n",
       "    }\n",
       "\n",
       "    .dataframe tbody tr th {\n",
       "        vertical-align: top;\n",
       "    }\n",
       "\n",
       "    .dataframe thead th {\n",
       "        text-align: right;\n",
       "    }\n",
       "</style>\n",
       "<table border=\"1\" class=\"dataframe\">\n",
       "  <thead>\n",
       "    <tr style=\"text-align: right;\">\n",
       "      <th></th>\n",
       "      <th>title</th>\n",
       "      <th>body</th>\n",
       "      <th>rating</th>\n",
       "      <th>product</th>\n",
       "    </tr>\n",
       "  </thead>\n",
       "  <tbody>\n",
       "    <tr>\n",
       "      <td>0</td>\n",
       "      <td>Cover</td>\n",
       "      <td>Buena calidad</td>\n",
       "      <td>5.0 out of 5 stars</td>\n",
       "      <td>Bose SoundSport Wireless Earphones</td>\n",
       "    </tr>\n",
       "    <tr>\n",
       "      <td>1</td>\n",
       "      <td>Great Customer Service</td>\n",
       "      <td>Excellent customer service. I received a fault...</td>\n",
       "      <td>5.0 out of 5 stars</td>\n",
       "      <td>Bose SoundSport Wireless Earphones</td>\n",
       "    </tr>\n",
       "    <tr>\n",
       "      <td>2</td>\n",
       "      <td>Five Stars</td>\n",
       "      <td>Follow the directions and watch the online vid...</td>\n",
       "      <td>5.0 out of 5 stars</td>\n",
       "      <td>Bose SoundSport Wireless Earphones</td>\n",
       "    </tr>\n",
       "    <tr>\n",
       "      <td>3</td>\n",
       "      <td>Good</td>\n",
       "      <td>Good</td>\n",
       "      <td>5.0 out of 5 stars</td>\n",
       "      <td>Bose SoundSport Wireless Earphones</td>\n",
       "    </tr>\n",
       "    <tr>\n",
       "      <td>4</td>\n",
       "      <td>Good protection.</td>\n",
       "      <td>Good protection for my tablet.</td>\n",
       "      <td>5.0 out of 5 stars</td>\n",
       "      <td>Bose SoundSport Wireless Earphones</td>\n",
       "    </tr>\n",
       "  </tbody>\n",
       "</table>\n",
       "</div>"
      ],
      "text/plain": [
       "                    title                                               body  \\\n",
       "0                   Cover                                      Buena calidad   \n",
       "1  Great Customer Service  Excellent customer service. I received a fault...   \n",
       "2              Five Stars  Follow the directions and watch the online vid...   \n",
       "3                    Good                                               Good   \n",
       "4        Good protection.                     Good protection for my tablet.   \n",
       "\n",
       "               rating                             product  \n",
       "0  5.0 out of 5 stars  Bose SoundSport Wireless Earphones  \n",
       "1  5.0 out of 5 stars  Bose SoundSport Wireless Earphones  \n",
       "2  5.0 out of 5 stars  Bose SoundSport Wireless Earphones  \n",
       "3  5.0 out of 5 stars  Bose SoundSport Wireless Earphones  \n",
       "4  5.0 out of 5 stars  Bose SoundSport Wireless Earphones  "
      ]
     },
     "execution_count": 50,
     "metadata": {},
     "output_type": "execute_result"
    }
   ],
   "source": [
    "#Dropping the unneeded columns\n",
    "bose.drop(columns=['web-scraper-order', \n",
    "                      'web-scraper-start-url',\n",
    "                      'next', 'next-href'], inplace=True)\n",
    "#Renaming the content column\n",
    "bose.rename(columns = {'content': 'body'}, inplace=True )\n",
    "#Adding the product column\n",
    "bose['product'] = 'Bose SoundSport Wireless Earphones'\n",
    "#Checking\n",
    "bose.head()"
   ]
  },
  {
   "cell_type": "code",
   "execution_count": 51,
   "metadata": {},
   "outputs": [
    {
     "data": {
      "text/plain": [
       "5.0    3636\n",
       "4.0     498\n",
       "1.0     418\n",
       "3.0     225\n",
       "2.0     223\n",
       "Name: rating, dtype: int64"
      ]
     },
     "execution_count": 51,
     "metadata": {},
     "output_type": "execute_result"
    }
   ],
   "source": [
    "# Changing the review column to an integer datatype and mapping the values\n",
    "bose['rating'] = bose['rating'].map({'5.0 out of 5 stars': 5,\n",
    "                          '4.0 out of 5 stars' : 4,\n",
    "                          '3.0 out of 5 stars': 3,\n",
    "                          '2.0 out of 5 stars': 2,\n",
    "                          '1.0 out of 5 stars': 1})\n",
    "bose['rating'].value_counts()"
   ]
  },
  {
   "cell_type": "code",
   "execution_count": 52,
   "metadata": {},
   "outputs": [
    {
     "data": {
      "text/plain": [
       "title      1\n",
       "body       1\n",
       "rating     1\n",
       "product    0\n",
       "dtype: int64"
      ]
     },
     "execution_count": 52,
     "metadata": {},
     "output_type": "execute_result"
    }
   ],
   "source": [
    "# checking for nulls\n",
    "bose.isnull().sum()"
   ]
  },
  {
   "cell_type": "code",
   "execution_count": 53,
   "metadata": {},
   "outputs": [
    {
     "data": {
      "text/plain": [
       "title      0\n",
       "body       0\n",
       "rating     0\n",
       "product    0\n",
       "dtype: int64"
      ]
     },
     "execution_count": 53,
     "metadata": {},
     "output_type": "execute_result"
    }
   ],
   "source": [
    "# Dropping the MAR nulls\n",
    "bose.dropna(inplace=True)\n",
    "bose.isnull().sum()"
   ]
  },
  {
   "cell_type": "code",
   "execution_count": 54,
   "metadata": {},
   "outputs": [
    {
     "data": {
      "text/plain": [
       "(4945, 4)"
      ]
     },
     "execution_count": 54,
     "metadata": {},
     "output_type": "execute_result"
    }
   ],
   "source": [
    "#Dropping the duplicates\n",
    "bose.drop_duplicates(inplace=True)\n",
    "bose.shape"
   ]
  },
  {
   "cell_type": "code",
   "execution_count": 55,
   "metadata": {},
   "outputs": [
    {
     "data": {
      "text/html": [
       "<div>\n",
       "<style scoped>\n",
       "    .dataframe tbody tr th:only-of-type {\n",
       "        vertical-align: middle;\n",
       "    }\n",
       "\n",
       "    .dataframe tbody tr th {\n",
       "        vertical-align: top;\n",
       "    }\n",
       "\n",
       "    .dataframe thead th {\n",
       "        text-align: right;\n",
       "    }\n",
       "</style>\n",
       "<table border=\"1\" class=\"dataframe\">\n",
       "  <thead>\n",
       "    <tr style=\"text-align: right;\">\n",
       "      <th></th>\n",
       "      <th>title</th>\n",
       "      <th>body</th>\n",
       "      <th>rating</th>\n",
       "      <th>product</th>\n",
       "    </tr>\n",
       "  </thead>\n",
       "  <tbody>\n",
       "    <tr>\n",
       "      <td>0</td>\n",
       "      <td>Cover</td>\n",
       "      <td>Buena calidad</td>\n",
       "      <td>5.0</td>\n",
       "      <td>Bose SoundSport Wireless Earphones</td>\n",
       "    </tr>\n",
       "    <tr>\n",
       "      <td>1</td>\n",
       "      <td>Great Customer Service</td>\n",
       "      <td>Excellent customer service. I received a fault...</td>\n",
       "      <td>5.0</td>\n",
       "      <td>Bose SoundSport Wireless Earphones</td>\n",
       "    </tr>\n",
       "    <tr>\n",
       "      <td>2</td>\n",
       "      <td>Five Stars</td>\n",
       "      <td>Follow the directions and watch the online vid...</td>\n",
       "      <td>5.0</td>\n",
       "      <td>Bose SoundSport Wireless Earphones</td>\n",
       "    </tr>\n",
       "    <tr>\n",
       "      <td>3</td>\n",
       "      <td>Good</td>\n",
       "      <td>Good</td>\n",
       "      <td>5.0</td>\n",
       "      <td>Bose SoundSport Wireless Earphones</td>\n",
       "    </tr>\n",
       "    <tr>\n",
       "      <td>4</td>\n",
       "      <td>Good protection.</td>\n",
       "      <td>Good protection for my tablet.</td>\n",
       "      <td>5.0</td>\n",
       "      <td>Bose SoundSport Wireless Earphones</td>\n",
       "    </tr>\n",
       "  </tbody>\n",
       "</table>\n",
       "</div>"
      ],
      "text/plain": [
       "                    title                                               body  \\\n",
       "0                   Cover                                      Buena calidad   \n",
       "1  Great Customer Service  Excellent customer service. I received a fault...   \n",
       "2              Five Stars  Follow the directions and watch the online vid...   \n",
       "3                    Good                                               Good   \n",
       "4        Good protection.                     Good protection for my tablet.   \n",
       "\n",
       "   rating                             product  \n",
       "0     5.0  Bose SoundSport Wireless Earphones  \n",
       "1     5.0  Bose SoundSport Wireless Earphones  \n",
       "2     5.0  Bose SoundSport Wireless Earphones  \n",
       "3     5.0  Bose SoundSport Wireless Earphones  \n",
       "4     5.0  Bose SoundSport Wireless Earphones  "
      ]
     },
     "execution_count": 55,
     "metadata": {},
     "output_type": "execute_result"
    }
   ],
   "source": [
    "bose.head()"
   ]
  },
  {
   "cell_type": "code",
   "execution_count": 56,
   "metadata": {},
   "outputs": [],
   "source": [
    "#creating a new csv\n",
    "bose.to_csv('../datasets/bose_wireless_reviews_eda.csv', index=False)"
   ]
  },
  {
   "cell_type": "markdown",
   "metadata": {},
   "source": [
    "### Kaggle Dataset "
   ]
  },
  {
   "cell_type": "code",
   "execution_count": 57,
   "metadata": {},
   "outputs": [
    {
     "data": {
      "text/html": [
       "<div>\n",
       "<style scoped>\n",
       "    .dataframe tbody tr th:only-of-type {\n",
       "        vertical-align: middle;\n",
       "    }\n",
       "\n",
       "    .dataframe tbody tr th {\n",
       "        vertical-align: top;\n",
       "    }\n",
       "\n",
       "    .dataframe thead th {\n",
       "        text-align: right;\n",
       "    }\n",
       "</style>\n",
       "<table border=\"1\" class=\"dataframe\">\n",
       "  <thead>\n",
       "    <tr style=\"text-align: right;\">\n",
       "      <th></th>\n",
       "      <th>ReviewTitle</th>\n",
       "      <th>ReviewBody</th>\n",
       "      <th>ReviewStar</th>\n",
       "      <th>Product</th>\n",
       "    </tr>\n",
       "  </thead>\n",
       "  <tbody>\n",
       "    <tr>\n",
       "      <td>0</td>\n",
       "      <td>Honest review of an edm music lover\\n</td>\n",
       "      <td>No doubt it has a great bass and to a great ex...</td>\n",
       "      <td>3</td>\n",
       "      <td>boAt Rockerz 255</td>\n",
       "    </tr>\n",
       "    <tr>\n",
       "      <td>1</td>\n",
       "      <td>Unreliable earphones with high cost\\n</td>\n",
       "      <td>This  earphones are unreliable, i bought it be...</td>\n",
       "      <td>1</td>\n",
       "      <td>boAt Rockerz 255</td>\n",
       "    </tr>\n",
       "    <tr>\n",
       "      <td>2</td>\n",
       "      <td>Really good and durable.\\n</td>\n",
       "      <td>i bought itfor 999,I purchased it second time,...</td>\n",
       "      <td>4</td>\n",
       "      <td>boAt Rockerz 255</td>\n",
       "    </tr>\n",
       "    <tr>\n",
       "      <td>3</td>\n",
       "      <td>stopped working in just 14 days\\n</td>\n",
       "      <td>Its sound quality is adorable. overall it was ...</td>\n",
       "      <td>1</td>\n",
       "      <td>boAt Rockerz 255</td>\n",
       "    </tr>\n",
       "    <tr>\n",
       "      <td>4</td>\n",
       "      <td>Just Awesome Wireless Headphone under 1000...😉\\n</td>\n",
       "      <td>Its Awesome... Good sound quality &amp; 8-9 hrs ba...</td>\n",
       "      <td>5</td>\n",
       "      <td>boAt Rockerz 255</td>\n",
       "    </tr>\n",
       "  </tbody>\n",
       "</table>\n",
       "</div>"
      ],
      "text/plain": [
       "                                        ReviewTitle  \\\n",
       "0             Honest review of an edm music lover\\n   \n",
       "1             Unreliable earphones with high cost\\n   \n",
       "2                        Really good and durable.\\n   \n",
       "3                 stopped working in just 14 days\\n   \n",
       "4  Just Awesome Wireless Headphone under 1000...😉\\n   \n",
       "\n",
       "                                          ReviewBody  ReviewStar  \\\n",
       "0  No doubt it has a great bass and to a great ex...           3   \n",
       "1  This  earphones are unreliable, i bought it be...           1   \n",
       "2  i bought itfor 999,I purchased it second time,...           4   \n",
       "3  Its sound quality is adorable. overall it was ...           1   \n",
       "4  Its Awesome... Good sound quality & 8-9 hrs ba...           5   \n",
       "\n",
       "            Product  \n",
       "0  boAt Rockerz 255  \n",
       "1  boAt Rockerz 255  \n",
       "2  boAt Rockerz 255  \n",
       "3  boAt Rockerz 255  \n",
       "4  boAt Rockerz 255  "
      ]
     },
     "execution_count": 57,
     "metadata": {},
     "output_type": "execute_result"
    }
   ],
   "source": [
    "df = pd.read_csv('../datasets/AllProductReviews.csv')\n",
    "df.head()"
   ]
  },
  {
   "cell_type": "code",
   "execution_count": 58,
   "metadata": {},
   "outputs": [
    {
     "data": {
      "text/html": [
       "<div>\n",
       "<style scoped>\n",
       "    .dataframe tbody tr th:only-of-type {\n",
       "        vertical-align: middle;\n",
       "    }\n",
       "\n",
       "    .dataframe tbody tr th {\n",
       "        vertical-align: top;\n",
       "    }\n",
       "\n",
       "    .dataframe thead th {\n",
       "        text-align: right;\n",
       "    }\n",
       "</style>\n",
       "<table border=\"1\" class=\"dataframe\">\n",
       "  <thead>\n",
       "    <tr style=\"text-align: right;\">\n",
       "      <th></th>\n",
       "      <th>title</th>\n",
       "      <th>body</th>\n",
       "      <th>rating</th>\n",
       "      <th>product</th>\n",
       "    </tr>\n",
       "  </thead>\n",
       "  <tbody>\n",
       "    <tr>\n",
       "      <td>0</td>\n",
       "      <td>Honest review of an edm music lover\\n</td>\n",
       "      <td>No doubt it has a great bass and to a great ex...</td>\n",
       "      <td>3</td>\n",
       "      <td>boAt Rockerz 255</td>\n",
       "    </tr>\n",
       "    <tr>\n",
       "      <td>1</td>\n",
       "      <td>Unreliable earphones with high cost\\n</td>\n",
       "      <td>This  earphones are unreliable, i bought it be...</td>\n",
       "      <td>1</td>\n",
       "      <td>boAt Rockerz 255</td>\n",
       "    </tr>\n",
       "    <tr>\n",
       "      <td>2</td>\n",
       "      <td>Really good and durable.\\n</td>\n",
       "      <td>i bought itfor 999,I purchased it second time,...</td>\n",
       "      <td>4</td>\n",
       "      <td>boAt Rockerz 255</td>\n",
       "    </tr>\n",
       "    <tr>\n",
       "      <td>3</td>\n",
       "      <td>stopped working in just 14 days\\n</td>\n",
       "      <td>Its sound quality is adorable. overall it was ...</td>\n",
       "      <td>1</td>\n",
       "      <td>boAt Rockerz 255</td>\n",
       "    </tr>\n",
       "    <tr>\n",
       "      <td>4</td>\n",
       "      <td>Just Awesome Wireless Headphone under 1000...😉\\n</td>\n",
       "      <td>Its Awesome... Good sound quality &amp; 8-9 hrs ba...</td>\n",
       "      <td>5</td>\n",
       "      <td>boAt Rockerz 255</td>\n",
       "    </tr>\n",
       "  </tbody>\n",
       "</table>\n",
       "</div>"
      ],
      "text/plain": [
       "                                              title  \\\n",
       "0             Honest review of an edm music lover\\n   \n",
       "1             Unreliable earphones with high cost\\n   \n",
       "2                        Really good and durable.\\n   \n",
       "3                 stopped working in just 14 days\\n   \n",
       "4  Just Awesome Wireless Headphone under 1000...😉\\n   \n",
       "\n",
       "                                                body  rating           product  \n",
       "0  No doubt it has a great bass and to a great ex...       3  boAt Rockerz 255  \n",
       "1  This  earphones are unreliable, i bought it be...       1  boAt Rockerz 255  \n",
       "2  i bought itfor 999,I purchased it second time,...       4  boAt Rockerz 255  \n",
       "3  Its sound quality is adorable. overall it was ...       1  boAt Rockerz 255  \n",
       "4  Its Awesome... Good sound quality & 8-9 hrs ba...       5  boAt Rockerz 255  "
      ]
     },
     "execution_count": 58,
     "metadata": {},
     "output_type": "execute_result"
    }
   ],
   "source": [
    "#Renaming the columns\n",
    "df.rename(columns = {\n",
    "    'ReviewTitle': 'title',\n",
    "    'ReviewBody': 'body',\n",
    "    'ReviewStar': 'rating',\n",
    "    'Product': 'product'\n",
    "}, inplace=True )\n",
    "df.head()"
   ]
  },
  {
   "cell_type": "markdown",
   "metadata": {},
   "source": [
    "df.dtypes"
   ]
  },
  {
   "cell_type": "code",
   "execution_count": 59,
   "metadata": {},
   "outputs": [
    {
     "data": {
      "text/plain": [
       "title      0\n",
       "body       0\n",
       "rating     0\n",
       "product    0\n",
       "dtype: int64"
      ]
     },
     "execution_count": 59,
     "metadata": {},
     "output_type": "execute_result"
    }
   ],
   "source": [
    "#checking for nulls\n",
    "df.isnull().sum()"
   ]
  },
  {
   "cell_type": "code",
   "execution_count": 60,
   "metadata": {},
   "outputs": [],
   "source": [
    "### Creating two large datasets, one with and one without the Kaggle data\n",
    "reviews = pd.concat([airpods,\n",
    "                   tozo,\n",
    "                   samsung,\n",
    "                   bose,\n",
    "                   trelab,\n",
    "                   df],\n",
    "                   axis=0)\n",
    "\n",
    "review_nok = pd.concat([airpods,\n",
    "                   tozo,\n",
    "                   samsung,\n",
    "                   bose,\n",
    "                   trelab],\n",
    "                   axis=0)\n"
   ]
  },
  {
   "cell_type": "code",
   "execution_count": 61,
   "metadata": {},
   "outputs": [
    {
     "data": {
      "text/plain": [
       "Index(['title', 'body', 'rating', 'product'], dtype='object')"
      ]
     },
     "execution_count": 61,
     "metadata": {},
     "output_type": "execute_result"
    }
   ],
   "source": [
    "reviews.columns"
   ]
  },
  {
   "cell_type": "code",
   "execution_count": 62,
   "metadata": {},
   "outputs": [
    {
     "data": {
      "text/plain": [
       "Index(['title', 'body', 'rating', 'product'], dtype='object')"
      ]
     },
     "execution_count": 62,
     "metadata": {},
     "output_type": "execute_result"
    }
   ],
   "source": [
    "review_nok.columns"
   ]
  },
  {
   "cell_type": "code",
   "execution_count": 63,
   "metadata": {},
   "outputs": [
    {
     "data": {
      "text/plain": [
       "(31868, 4)"
      ]
     },
     "execution_count": 63,
     "metadata": {},
     "output_type": "execute_result"
    }
   ],
   "source": [
    "reviews.shape"
   ]
  },
  {
   "cell_type": "code",
   "execution_count": 64,
   "metadata": {},
   "outputs": [
    {
     "data": {
      "text/plain": [
       "(17531, 4)"
      ]
     },
     "execution_count": 64,
     "metadata": {},
     "output_type": "execute_result"
    }
   ],
   "source": [
    "review_nok.shape"
   ]
  },
  {
   "cell_type": "code",
   "execution_count": 65,
   "metadata": {},
   "outputs": [],
   "source": [
    "# Creating two master csvs\n",
    "reviews.to_csv('../datasets/reviews.csv')\n",
    "review_nok.to_csv('../datasets/reviews_no_kaggle.csv')"
   ]
  },
  {
   "cell_type": "markdown",
   "metadata": {},
   "source": [
    "### EDA"
   ]
  },
  {
   "cell_type": "code",
   "execution_count": 4,
   "metadata": {},
   "outputs": [],
   "source": [
    "df = pd.read_csv('../datasets/reviews.csv')"
   ]
  },
  {
   "cell_type": "code",
   "execution_count": 5,
   "metadata": {},
   "outputs": [
    {
     "data": {
      "text/plain": [
       "Index(['Unnamed: 0', 'title', 'body', 'rating', 'product'], dtype='object')"
      ]
     },
     "execution_count": 5,
     "metadata": {},
     "output_type": "execute_result"
    }
   ],
   "source": [
    "df.columns"
   ]
  },
  {
   "cell_type": "code",
   "execution_count": 6,
   "metadata": {},
   "outputs": [
    {
     "data": {
      "text/html": [
       "<div>\n",
       "<style scoped>\n",
       "    .dataframe tbody tr th:only-of-type {\n",
       "        vertical-align: middle;\n",
       "    }\n",
       "\n",
       "    .dataframe tbody tr th {\n",
       "        vertical-align: top;\n",
       "    }\n",
       "\n",
       "    .dataframe thead th {\n",
       "        text-align: right;\n",
       "    }\n",
       "</style>\n",
       "<table border=\"1\" class=\"dataframe\">\n",
       "  <thead>\n",
       "    <tr style=\"text-align: right;\">\n",
       "      <th></th>\n",
       "      <th>title</th>\n",
       "      <th>body</th>\n",
       "      <th>rating</th>\n",
       "      <th>product</th>\n",
       "    </tr>\n",
       "  </thead>\n",
       "  <tbody>\n",
       "    <tr>\n",
       "      <td>0</td>\n",
       "      <td>Great wireless music</td>\n",
       "      <td>Product as expecred</td>\n",
       "      <td>5.0</td>\n",
       "      <td>Apple Airpods-Latest Model</td>\n",
       "    </tr>\n",
       "    <tr>\n",
       "      <td>1</td>\n",
       "      <td>battery life dies really quick</td>\n",
       "      <td>i really like my airpods but the battery life ...</td>\n",
       "      <td>4.0</td>\n",
       "      <td>Apple Airpods-Latest Model</td>\n",
       "    </tr>\n",
       "    <tr>\n",
       "      <td>2</td>\n",
       "      <td>The audio sound muffled (right ear)</td>\n",
       "      <td>I bought Airpods 2 on Amazon. But right ears w...</td>\n",
       "      <td>3.0</td>\n",
       "      <td>Apple Airpods-Latest Model</td>\n",
       "    </tr>\n",
       "    <tr>\n",
       "      <td>3</td>\n",
       "      <td>Comprarlo sin problemas</td>\n",
       "      <td>Perfect</td>\n",
       "      <td>5.0</td>\n",
       "      <td>Apple Airpods-Latest Model</td>\n",
       "    </tr>\n",
       "    <tr>\n",
       "      <td>4</td>\n",
       "      <td>good！</td>\n",
       "      <td>so</td>\n",
       "      <td>5.0</td>\n",
       "      <td>Apple Airpods-Latest Model</td>\n",
       "    </tr>\n",
       "  </tbody>\n",
       "</table>\n",
       "</div>"
      ],
      "text/plain": [
       "                                 title  \\\n",
       "0                 Great wireless music   \n",
       "1       battery life dies really quick   \n",
       "2  The audio sound muffled (right ear)   \n",
       "3              Comprarlo sin problemas   \n",
       "4                                good！   \n",
       "\n",
       "                                                body  rating  \\\n",
       "0                                Product as expecred     5.0   \n",
       "1  i really like my airpods but the battery life ...     4.0   \n",
       "2  I bought Airpods 2 on Amazon. But right ears w...     3.0   \n",
       "3                                            Perfect     5.0   \n",
       "4                                                 so     5.0   \n",
       "\n",
       "                      product  \n",
       "0  Apple Airpods-Latest Model  \n",
       "1  Apple Airpods-Latest Model  \n",
       "2  Apple Airpods-Latest Model  \n",
       "3  Apple Airpods-Latest Model  \n",
       "4  Apple Airpods-Latest Model  "
      ]
     },
     "execution_count": 6,
     "metadata": {},
     "output_type": "execute_result"
    }
   ],
   "source": [
    "df = df.drop(columns='Unnamed: 0')\n",
    "df.head()"
   ]
  },
  {
   "cell_type": "code",
   "execution_count": null,
   "metadata": {},
   "outputs": [],
   "source": []
  },
  {
   "cell_type": "code",
   "execution_count": 7,
   "metadata": {},
   "outputs": [],
   "source": [
    "# Using RegEx to \n",
    "df['title'] = df['title'].apply(lambda x: x.lower())\n",
    "df['body'] = df['body'].apply(lambda x: x.lower())\n",
    "# remove punctuation from text\n",
    "df['title'] = df['title'].str.replace('[^\\w\\s]','')\n",
    "df['body'] = df['body'].str.replace('[^\\w\\s]','')"
   ]
  },
  {
   "cell_type": "code",
   "execution_count": 8,
   "metadata": {},
   "outputs": [
    {
     "data": {
      "text/html": [
       "<div>\n",
       "<style scoped>\n",
       "    .dataframe tbody tr th:only-of-type {\n",
       "        vertical-align: middle;\n",
       "    }\n",
       "\n",
       "    .dataframe tbody tr th {\n",
       "        vertical-align: top;\n",
       "    }\n",
       "\n",
       "    .dataframe thead th {\n",
       "        text-align: right;\n",
       "    }\n",
       "</style>\n",
       "<table border=\"1\" class=\"dataframe\">\n",
       "  <thead>\n",
       "    <tr style=\"text-align: right;\">\n",
       "      <th></th>\n",
       "      <th>title</th>\n",
       "      <th>body</th>\n",
       "      <th>rating</th>\n",
       "      <th>product</th>\n",
       "    </tr>\n",
       "  </thead>\n",
       "  <tbody>\n",
       "    <tr>\n",
       "      <td>0</td>\n",
       "      <td>great wireless music</td>\n",
       "      <td>product as expecred</td>\n",
       "      <td>5.0</td>\n",
       "      <td>Apple Airpods-Latest Model</td>\n",
       "    </tr>\n",
       "    <tr>\n",
       "      <td>1</td>\n",
       "      <td>battery life dies really quick</td>\n",
       "      <td>i really like my airpods but the battery life ...</td>\n",
       "      <td>4.0</td>\n",
       "      <td>Apple Airpods-Latest Model</td>\n",
       "    </tr>\n",
       "    <tr>\n",
       "      <td>2</td>\n",
       "      <td>the audio sound muffled right ear</td>\n",
       "      <td>i bought airpods 2 on amazon but right ears wa...</td>\n",
       "      <td>3.0</td>\n",
       "      <td>Apple Airpods-Latest Model</td>\n",
       "    </tr>\n",
       "    <tr>\n",
       "      <td>3</td>\n",
       "      <td>comprarlo sin problemas</td>\n",
       "      <td>perfect</td>\n",
       "      <td>5.0</td>\n",
       "      <td>Apple Airpods-Latest Model</td>\n",
       "    </tr>\n",
       "    <tr>\n",
       "      <td>4</td>\n",
       "      <td>good</td>\n",
       "      <td>so</td>\n",
       "      <td>5.0</td>\n",
       "      <td>Apple Airpods-Latest Model</td>\n",
       "    </tr>\n",
       "  </tbody>\n",
       "</table>\n",
       "</div>"
      ],
      "text/plain": [
       "                               title  \\\n",
       "0               great wireless music   \n",
       "1     battery life dies really quick   \n",
       "2  the audio sound muffled right ear   \n",
       "3            comprarlo sin problemas   \n",
       "4                               good   \n",
       "\n",
       "                                                body  rating  \\\n",
       "0                                product as expecred     5.0   \n",
       "1  i really like my airpods but the battery life ...     4.0   \n",
       "2  i bought airpods 2 on amazon but right ears wa...     3.0   \n",
       "3                                            perfect     5.0   \n",
       "4                                                 so     5.0   \n",
       "\n",
       "                      product  \n",
       "0  Apple Airpods-Latest Model  \n",
       "1  Apple Airpods-Latest Model  \n",
       "2  Apple Airpods-Latest Model  \n",
       "3  Apple Airpods-Latest Model  \n",
       "4  Apple Airpods-Latest Model  "
      ]
     },
     "execution_count": 8,
     "metadata": {},
     "output_type": "execute_result"
    }
   ],
   "source": [
    "df.head()"
   ]
  },
  {
   "cell_type": "code",
   "execution_count": null,
   "metadata": {},
   "outputs": [],
   "source": []
  }
 ],
 "metadata": {
  "kernelspec": {
   "display_name": "Python 3",
   "language": "python",
   "name": "python3"
  },
  "language_info": {
   "codemirror_mode": {
    "name": "ipython",
    "version": 3
   },
   "file_extension": ".py",
   "mimetype": "text/x-python",
   "name": "python",
   "nbconvert_exporter": "python",
   "pygments_lexer": "ipython3",
   "version": "3.7.3"
  }
 },
 "nbformat": 4,
 "nbformat_minor": 2
}
